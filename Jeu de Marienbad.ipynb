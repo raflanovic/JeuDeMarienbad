{
 "cells": [
  {
   "cell_type": "markdown",
   "metadata": {},
   "source": [
    "# Le jeu du Bâton"
   ]
  },
  {
   "cell_type": "code",
   "execution_count": 112,
   "metadata": {},
   "outputs": [],
   "source": [
    "class Game(object):\n",
    "    def __init__(self, base):\n",
    "        self.base = base\n",
    "        self.state = [[True]*i for i in range(1,base+1)]\n",
    "        self.solved = False\n",
    "        self.n_iter = 0\n",
    "        \n",
    "    def _check_valid_move(self, move):\n",
    "        assert(all(self.state[move[0]][move[1][0]:move[1][1]+1])) \n",
    "    \n",
    "    def next_move(self, move):\n",
    "        if not(self.solved): \n",
    "            try:\n",
    "                self._check_valid_move(move)\n",
    "                self.state[move[0]][move[1][0]:move[1][1]+1] = [False for i in range(move[1][0],move[1][1]+1)]\n",
    "                self.n_iter += 1\n",
    "                if all([not elt for i in range(len(self.state)) for elt in self.state[i]]): \n",
    "                    self.solved = True\n",
    "                    \n",
    "            except: \n",
    "                print('Invalid move, please try again...')\n",
    "        else: \n",
    "            print('Game finished!')\n"
   ]
  },
  {
   "cell_type": "code",
   "execution_count": 113,
   "metadata": {},
   "outputs": [],
   "source": [
    "class Agent(object): \n",
    "    def decision(self,state): \n",
    "        return"
   ]
  },
  {
   "cell_type": "code",
   "execution_count": null,
   "metadata": {},
   "outputs": [],
   "source": [
    "class Tree(object):\n",
    "    \"Generic tree node.\"\n",
    "    def __init__(self, move = 'root', value = 1, children=None):\n",
    "        self.move = move\n",
    "        self.children = []\n",
    "        self.value = value\n",
    "        if children is not None:\n",
    "            for child in children:\n",
    "                self.add_child(child)\n",
    "                \n",
    "    def __repr__(self):\n",
    "        return self.value\n",
    "    \n",
    "    def add_child(self, node):\n",
    "        assert isinstance(node, Tree)\n",
    "        self.children.append(node)\n",
    "           "
   ]
  },
  {
   "cell_type": "code",
   "execution_count": null,
   "metadata": {},
   "outputs": [],
   "source": [
    "class AgentMCTS(Agent):\n",
    "    def __init__(self):\n",
    "        self.tree = Tree()"
   ]
  },
  {
   "cell_type": "code",
   "execution_count": null,
   "metadata": {},
   "outputs": [],
   "source": []
  }
 ],
 "metadata": {
  "kernelspec": {
   "display_name": "Python 3",
   "language": "python",
   "name": "python3"
  },
  "language_info": {
   "codemirror_mode": {
    "name": "ipython",
    "version": 3
   },
   "file_extension": ".py",
   "mimetype": "text/x-python",
   "name": "python",
   "nbconvert_exporter": "python",
   "pygments_lexer": "ipython3",
   "version": "3.7.3"
  }
 },
 "nbformat": 4,
 "nbformat_minor": 4
}
